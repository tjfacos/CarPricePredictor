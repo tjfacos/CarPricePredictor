{
 "cells": [
  {
   "cell_type": "markdown",
   "id": "068c746d",
   "metadata": {},
   "source": [
    "# Car Price Predictor\n",
    "This project takes data from multiple CSV files, taken from 100,000 UK used car listings, and produces a linear regression model to predict a cars price from its features, such as make, model, mileage, etc."
   ]
  },
  {
   "cell_type": "code",
   "execution_count": null,
   "id": "574a7309",
   "metadata": {},
   "outputs": [],
   "source": []
  }
 ],
 "metadata": {
  "kernelspec": {
   "display_name": "Python 3 (ipykernel)",
   "language": "python",
   "name": "python3"
  },
  "language_info": {
   "codemirror_mode": {
    "name": "ipython",
    "version": 3
   },
   "file_extension": ".py",
   "mimetype": "text/x-python",
   "name": "python",
   "nbconvert_exporter": "python",
   "pygments_lexer": "ipython3",
   "version": "3.10.9"
  }
 },
 "nbformat": 4,
 "nbformat_minor": 5
}
